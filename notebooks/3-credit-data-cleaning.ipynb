{
 "metadata": {
  "language_info": {
   "codemirror_mode": {
    "name": "ipython",
    "version": 3
   },
   "file_extension": ".py",
   "mimetype": "text/x-python",
   "name": "python",
   "nbconvert_exporter": "python",
   "pygments_lexer": "ipython3",
   "version": "3.9.5"
  },
  "orig_nbformat": 4,
  "kernelspec": {
   "name": "python3",
   "display_name": "Python 3.9.5 64-bit"
  },
  "interpreter": {
   "hash": "31f2aee4e71d21fbe5cf8b01ff0e069b9275f58929596ceb00d14d90e3e16cd6"
  }
 },
 "nbformat": 4,
 "nbformat_minor": 2,
 "cells": [
  {
   "cell_type": "code",
   "execution_count": 1,
   "metadata": {},
   "outputs": [],
   "source": [
    "import pandas as pd\n",
    "import numpy as np\n",
    "import matplotlib.pyplot as plt\n",
    "\n",
    "# Data cleaned  -> reduce costs\n",
    "#               -> higher performance of ML model\n",
    "#               -> ROC impact (most accurate)\n"
   ]
  },
  {
   "cell_type": "code",
   "execution_count": 2,
   "metadata": {},
   "outputs": [],
   "source": [
    "credit_data=pd.read_csv('../data/data2.csv')"
   ]
  },
  {
   "cell_type": "code",
   "execution_count": 3,
   "metadata": {},
   "outputs": [
    {
     "output_type": "execute_result",
     "data": {
      "text/plain": [
       "person_home_ownership  MORTGAGE  OTHER   OWN   RENT\n",
       "loan_status                                        \n",
       "0                         123.0   24.0  31.0   41.0\n",
       "1                          34.0   11.0  17.0  123.0"
      ],
      "text/html": "<div>\n<style scoped>\n    .dataframe tbody tr th:only-of-type {\n        vertical-align: middle;\n    }\n\n    .dataframe tbody tr th {\n        vertical-align: top;\n    }\n\n    .dataframe thead th {\n        text-align: right;\n    }\n</style>\n<table border=\"1\" class=\"dataframe\">\n  <thead>\n    <tr style=\"text-align: right;\">\n      <th>person_home_ownership</th>\n      <th>MORTGAGE</th>\n      <th>OTHER</th>\n      <th>OWN</th>\n      <th>RENT</th>\n    </tr>\n    <tr>\n      <th>loan_status</th>\n      <th></th>\n      <th></th>\n      <th></th>\n      <th></th>\n    </tr>\n  </thead>\n  <tbody>\n    <tr>\n      <th>0</th>\n      <td>123.0</td>\n      <td>24.0</td>\n      <td>31.0</td>\n      <td>41.0</td>\n    </tr>\n    <tr>\n      <th>1</th>\n      <td>34.0</td>\n      <td>11.0</td>\n      <td>17.0</td>\n      <td>123.0</td>\n    </tr>\n  </tbody>\n</table>\n</div>"
     },
     "metadata": {},
     "execution_count": 3
    }
   ],
   "source": [
    "# Pivot table of loan status, type of ownership and emp length\n",
    "pd.crosstab(credit_data['loan_status'],\n",
    "            credit_data['person_home_ownership'], \n",
    "            values=credit_data['person_emp_length'], \n",
    "            aggfunc='max')"
   ]
  },
  {
   "cell_type": "code",
   "execution_count": 11,
   "metadata": {},
   "outputs": [
    {
     "output_type": "stream",
     "name": "stdout",
     "text": [
      "Int64Index([0, 210], dtype='int64')\n---------------------------\nIndex(['Unnamed: 0', 'person_age', 'person_income', 'person_home_ownership',\n       'person_emp_length', 'loan_intent', 'loan_grade', 'loan_amnt',\n       'loan_int_rate', 'loan_status', 'loan_percent_income',\n       'cb_person_default_on_file', 'cb_person_cred_hist_length'],\n      dtype='object')\n"
     ]
    }
   ],
   "source": [
    "# Index of employment length that is greater than 60\n",
    "indices = credit_data[credit_data['person_emp_length'] > 60].index\n",
    "print(indices)\n",
    "print(\"---------------------------\")\n",
    "# Drop the rows with indices to create a nwe dataframe\n",
    "credit_data_cleaned = credit_data.drop(indices)\n",
    "print(credit_data_cleaned.columns)"
   ]
  },
  {
   "cell_type": "code",
   "execution_count": 17,
   "metadata": {},
   "outputs": [
    {
     "output_type": "stream",
     "name": "stdout",
     "text": [
      "Conlusion: Generally with credit data, key columns like person_emp_length are of high quality, outliers can be identified by this column\n"
     ]
    }
   ],
   "source": [
    "# Create the cross table from earlier and include minimum employment length\n",
    "pd.crosstab(credit_data_cleaned['loan_status'],\n",
    "            credit_data_cleaned['person_home_ownership'],\n",
    "            values=credit_data_cleaned['person_emp_length'],\n",
    "            aggfunc=('min','max'))\n",
    "\n",
    "print(\"Conlusion: Generally with credit data, key columns like person_emp_length are of high quality, outliers can be identified by this column\")"
   ]
  }
 ]
}