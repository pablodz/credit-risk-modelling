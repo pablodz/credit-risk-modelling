{
 "metadata": {
  "language_info": {
   "codemirror_mode": {
    "name": "ipython",
    "version": 3
   },
   "file_extension": ".py",
   "mimetype": "text/x-python",
   "name": "python",
   "nbconvert_exporter": "python",
   "pygments_lexer": "ipython3",
   "version": "3.9.5"
  },
  "orig_nbformat": 4,
  "kernelspec": {
   "name": "python3",
   "display_name": "Python 3.9.5 64-bit"
  },
  "interpreter": {
   "hash": "31f2aee4e71d21fbe5cf8b01ff0e069b9275f58929596ceb00d14d90e3e16cd6"
  }
 },
 "nbformat": 4,
 "nbformat_minor": 2,
 "cells": [
  {
   "cell_type": "code",
   "execution_count": 6,
   "metadata": {},
   "outputs": [],
   "source": [
    "import pandas as pd\n",
    "import numpy as np\n",
    "import matplotlib.pyplot as plt\n",
    "from sklearn.linear_model import LogisticRegression\n",
    "from sklearn.model_selection import train_test_split"
   ]
  },
  {
   "cell_type": "code",
   "execution_count": 2,
   "metadata": {},
   "outputs": [],
   "source": [
    "credit_data_cleaned=pd.read_csv('../data/data2_cleaned.csv')"
   ]
  },
  {
   "cell_type": "code",
   "execution_count": 18,
   "metadata": {},
   "outputs": [
    {
     "output_type": "stream",
     "name": "stdout",
     "text": [
      "Coef of model LogisticRegression fitted\n[[ 8.77420090e-02 -7.15983017e-02 -3.26850971e-05]]\n"
     ]
    }
   ],
   "source": [
    "# Axis based on columns of the data\n",
    "X = credit_data_cleaned[['loan_int_rate','person_emp_length','person_income']]\n",
    "y = credit_data_cleaned[['loan_status']]\n",
    "\n",
    "#  Splitting data into train an test\n",
    "X_train, X_test, y_train, y_test = train_test_split(X,\n",
    "                                                    y, \n",
    "                                                    test_size=.4,\n",
    "                                                    # random_state=43\n",
    "                                                    )\n",
    "\n",
    "# Logistic regression and Fit\n",
    "clf=LogisticRegression(solver='lbfgs')\n",
    "clf_logistic = clf.fit(X_train,\n",
    "                        np.ravel(y_train))     \n",
    "\n",
    "# getting coef of model fitted\n",
    "print(\"Coef of model LogisticRegression fitted\")\n",
    "print(clf_logistic.coef_)"
   ]
  }
 ]
}