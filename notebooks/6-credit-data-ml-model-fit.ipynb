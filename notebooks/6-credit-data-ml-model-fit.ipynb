{
 "metadata": {
  "language_info": {
   "codemirror_mode": {
    "name": "ipython",
    "version": 3
   },
   "file_extension": ".py",
   "mimetype": "text/x-python",
   "name": "python",
   "nbconvert_exporter": "python",
   "pygments_lexer": "ipython3",
   "version": "3.9.5"
  },
  "orig_nbformat": 4,
  "kernelspec": {
   "name": "python3",
   "display_name": "Python 3.9.5 64-bit"
  },
  "interpreter": {
   "hash": "31f2aee4e71d21fbe5cf8b01ff0e069b9275f58929596ceb00d14d90e3e16cd6"
  }
 },
 "nbformat": 4,
 "nbformat_minor": 2,
 "cells": [
  {
   "cell_type": "code",
   "execution_count": 4,
   "metadata": {},
   "outputs": [],
   "source": [
    "import pandas as pd\n",
    "import numpy as np\n",
    "import matplotlib.pyplot as plt\n",
    "from sklearn.linear_model import LogisticRegression"
   ]
  },
  {
   "cell_type": "code",
   "execution_count": 2,
   "metadata": {},
   "outputs": [],
   "source": [
    "credit_data_cleaned=pd.read_csv('../data/data2_cleaned.csv')"
   ]
  },
  {
   "cell_type": "code",
   "execution_count": 14,
   "metadata": {},
   "outputs": [
    {
     "output_type": "stream",
     "name": "stdout",
     "text": [
      "{'C': 1.0, 'class_weight': None, 'dual': False, 'fit_intercept': True, 'intercept_scaling': 1, 'l1_ratio': None, 'max_iter': 100, 'multi_class': 'auto', 'n_jobs': None, 'penalty': 'l2', 'random_state': None, 'solver': 'lbfgs', 'tol': 0.0001, 'verbose': 0, 'warm_start': False}\n----------------------------------\n[-4.45785901]\n"
     ]
    }
   ],
   "source": [
    "#  Create axis based on columns to fit and predict over cleaned data\n",
    "X_train = credit_data_cleaned[['loan_int_rate']]\n",
    "y_train = credit_data_cleaned[['loan_status']]\n",
    "\n",
    "# Fit Logistic model\n",
    "clf_mlmodel_logistic_single = LogisticRegression()\n",
    "clf_mlmodel_logistic_single.fit(X_train, np.ravel(y_train))\n",
    "\n",
    "# Get parameters of the model\n",
    "print(clf_mlmodel_logistic_single.get_params())\n",
    "print(\"----------------------------------\")\n",
    "print(clf_mlmodel_logistic_single.intercept_)\n",
    "A=clf_mlmodel_logistic_single.intercept_"
   ]
  },
  {
   "cell_type": "code",
   "execution_count": 15,
   "metadata": {},
   "outputs": [
    {
     "output_type": "stream",
     "name": "stdout",
     "text": [
      "[-4.21645549]\n"
     ]
    }
   ],
   "source": [
    "# Create axis based on two columns data vs loan status\n",
    "X_multi = credit_data_cleaned[['loan_int_rate','person_emp_length']]\n",
    "y = credit_data_cleaned[['loan_status']]\n",
    "# create logistic regression model\n",
    "clf=LogisticRegression(solver='lbfgs')\n",
    "# and fit\n",
    "clf_mlmodel_logistic_multi = clf.fit(X_multi, np.ravel(y))\n",
    "\n",
    "#  get intercept\n",
    "print(clf_mlmodel_logistic_multi.intercept_)\n",
    "B=clf_mlmodel_logistic_multi.intercept_"
   ]
  },
  {
   "cell_type": "code",
   "execution_count": 18,
   "metadata": {},
   "outputs": [
    {
     "output_type": "stream",
     "name": "stdout",
     "text": [
      "Values of intercept depending on model: [-4.45785901] [-4.21645549]\n"
     ]
    }
   ],
   "source": [
    "print(\"Values of intercept depending on model:\",A,B)"
   ]
  }
 ]
}